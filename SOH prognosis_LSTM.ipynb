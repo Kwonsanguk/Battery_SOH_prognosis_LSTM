{
 "cells": [
  {
   "cell_type": "markdown",
   "metadata": {},
   "source": [
    "### 모듈 입력\n",
    "- 데이터 입력 및 전처리(numpy, pandas)\n",
    "- 그래프 및 시각화(matplotlib)\n",
    "- 학습데이터 구성 및 모델 생성(tensorflow, keras)"
   ]
  },
  {
   "cell_type": "code",
   "execution_count": 1,
   "metadata": {},
   "outputs": [],
   "source": [
    "import tensorflow as tf\n",
    "import numpy as np\n",
    "import pandas as pd\n",
    "import matplotlib.pyplot as plt\n",
    "from tensorflow.keras.models import Sequential\n",
    "from tensorflow.keras.layers import LSTM,Dropout,Dense,Activation"
   ]
  },
  {
   "cell_type": "markdown",
   "metadata": {},
   "source": [
    "### 데이터 전처리\n",
    "- csv file load(pandas)\n",
    "- 빈 데이터(Null) 확인 및 처리\n",
    "- dataframe(pandas)-> numpy"
   ]
  },
  {
   "cell_type": "code",
   "execution_count": 2,
   "metadata": {
    "scrolled": true
   },
   "outputs": [
    {
     "name": "stdout",
     "output_type": "stream",
     "text": [
      "<class 'pandas.core.frame.DataFrame'>\n",
      "RangeIndex: 40 entries, 0 to 39\n",
      "Data columns (total 5 columns):\n",
      "Ri               40 non-null float64\n",
      "R_1s             40 non-null float64\n",
      "R_60s            40 non-null float64\n",
      "CV length        40 non-null int64\n",
      "Cap_discharge    40 non-null float64\n",
      "dtypes: float64(4), int64(1)\n",
      "memory usage: 1.7 KB\n"
     ]
    }
   ],
   "source": [
    "# pandas csv file load\n",
    "data = pd.read_csv('Train data(UDDS aging).csv')\n",
    "# null 유/무 확인\n",
    "data.info()"
   ]
  },
  {
   "cell_type": "code",
   "execution_count": 3,
   "metadata": {},
   "outputs": [
    {
     "data": {
      "text/html": [
       "<div>\n",
       "<style scoped>\n",
       "    .dataframe tbody tr th:only-of-type {\n",
       "        vertical-align: middle;\n",
       "    }\n",
       "\n",
       "    .dataframe tbody tr th {\n",
       "        vertical-align: top;\n",
       "    }\n",
       "\n",
       "    .dataframe thead th {\n",
       "        text-align: right;\n",
       "    }\n",
       "</style>\n",
       "<table border=\"1\" class=\"dataframe\">\n",
       "  <thead>\n",
       "    <tr style=\"text-align: right;\">\n",
       "      <th></th>\n",
       "      <th>Ri</th>\n",
       "      <th>R_1s</th>\n",
       "      <th>R_60s</th>\n",
       "      <th>CV length</th>\n",
       "      <th>Cap_discharge</th>\n",
       "    </tr>\n",
       "  </thead>\n",
       "  <tbody>\n",
       "    <tr>\n",
       "      <td>0</td>\n",
       "      <td>0.020581</td>\n",
       "      <td>0.002319</td>\n",
       "      <td>0.026490</td>\n",
       "      <td>10393</td>\n",
       "      <td>2.464430</td>\n",
       "    </tr>\n",
       "    <tr>\n",
       "      <td>1</td>\n",
       "      <td>0.020563</td>\n",
       "      <td>0.002564</td>\n",
       "      <td>0.027161</td>\n",
       "      <td>11097</td>\n",
       "      <td>2.460054</td>\n",
       "    </tr>\n",
       "    <tr>\n",
       "      <td>2</td>\n",
       "      <td>0.021119</td>\n",
       "      <td>0.002441</td>\n",
       "      <td>0.027161</td>\n",
       "      <td>11532</td>\n",
       "      <td>2.448338</td>\n",
       "    </tr>\n",
       "    <tr>\n",
       "      <td>3</td>\n",
       "      <td>0.021245</td>\n",
       "      <td>0.002625</td>\n",
       "      <td>0.027405</td>\n",
       "      <td>11989</td>\n",
       "      <td>2.439152</td>\n",
       "    </tr>\n",
       "    <tr>\n",
       "      <td>4</td>\n",
       "      <td>0.021612</td>\n",
       "      <td>0.002258</td>\n",
       "      <td>0.027283</td>\n",
       "      <td>12389</td>\n",
       "      <td>2.431225</td>\n",
       "    </tr>\n",
       "  </tbody>\n",
       "</table>\n",
       "</div>"
      ],
      "text/plain": [
       "         Ri      R_1s     R_60s  CV length  Cap_discharge\n",
       "0  0.020581  0.002319  0.026490      10393       2.464430\n",
       "1  0.020563  0.002564  0.027161      11097       2.460054\n",
       "2  0.021119  0.002441  0.027161      11532       2.448338\n",
       "3  0.021245  0.002625  0.027405      11989       2.439152\n",
       "4  0.021612  0.002258  0.027283      12389       2.431225"
      ]
     },
     "execution_count": 3,
     "metadata": {},
     "output_type": "execute_result"
    }
   ],
   "source": [
    "# 데이터 확인(맨 위 5줄)\n",
    "data.head()"
   ]
  },
  {
   "cell_type": "code",
   "execution_count": 4,
   "metadata": {},
   "outputs": [
    {
     "data": {
      "text/plain": [
       "(40, 5)"
      ]
     },
     "execution_count": 4,
     "metadata": {},
     "output_type": "execute_result"
    }
   ],
   "source": [
    "# dataframe -> numpy로 변환\n",
    "xy = data.iloc[:,:].values\n",
    "xy.shape"
   ]
  },
  {
   "cell_type": "markdown",
   "metadata": {},
   "source": [
    "## 모델 생성\n",
    "- Lstm(Long short term memory) 모델 생성\n",
    "#### RNN 모델의 변형(vanishing gradient 극복), 다변량 예측 모델(입력값 다수)"
   ]
  },
  {
   "cell_type": "code",
   "execution_count": 5,
   "metadata": {},
   "outputs": [],
   "source": [
    "# 데이터의 정규화(normalization) 함수 생성 - minmaxscaler 선택\n",
    "def minmaxscaler(data):\n",
    "    numerator = data - np.min(data, 0)\n",
    "    denominator = np.max(data, 0) - np.min(data, 0)\n",
    "    return numerator / denominator           \n",
    "    # noise term prevents the zero division:  (denominator + 1e-7)"
   ]
  },
  {
   "cell_type": "code",
   "execution_count": 6,
   "metadata": {},
   "outputs": [
    {
     "data": {
      "text/plain": [
       "(38, 2, 5)"
      ]
     },
     "execution_count": 6,
     "metadata": {},
     "output_type": "execute_result"
    }
   ],
   "source": [
    "x_data = xy[:, 0:-1]\n",
    "y_data = xy[:, [-1]]\n",
    "ymax, ymin = np.max(y_data), np.min(y_data)\n",
    "xy = minmaxscaler(xy)\n",
    "\n",
    "# seq_len : 예측에 반영되는 이전값의 time sequence 수\n",
    "seq_len = 1\n",
    "sequence_length = seq_len + 1\n",
    "\n",
    "# seq_len 수에 따라 차원 변경(2차원 -> 3차원)\n",
    "# 3차원 = (input data 길이, sequence_length, input 개수)\n",
    "result=[]\n",
    "for index in range(len(xy)-sequence_length):\n",
    "    result.append(xy[index:index +sequence_length])\n",
    "    result_data = np.array(result)\n",
    "result_data.shape"
   ]
  },
  {
   "cell_type": "code",
   "execution_count": 7,
   "metadata": {},
   "outputs": [
    {
     "name": "stdout",
     "output_type": "stream",
     "text": [
      "X_data :  (38, 1, 4)\n",
      "Y_data :  (38,)\n",
      "X_train :  (30, 1, 4)\n",
      "Y_train :  (30,)\n",
      "X_test :  (8, 1, 4)\n",
      "Y_test :  (8,)\n"
     ]
    }
   ],
   "source": [
    "# 학습 데이터, 테스트 데이터 분할\n",
    "# 90% 데이터 : 학습 , 10% 데이터 : 테스트\n",
    "# data_real : minmaxscaler함수 연산 이전의 기존 값\n",
    "row=int(round(result_data.shape[0]*0.8))\n",
    "train=result_data[:row,:]\n",
    "\n",
    "X_data = result_data[:,:-1,:-1]\n",
    "Y_data = result_data[:,-1,-1]\n",
    "Y_data_real = Y_data*(ymax-ymin)+ymin\n",
    "print('X_data : ', X_data.shape)\n",
    "print('Y_data : ', Y_data.shape)\n",
    "\n",
    "X_train=train[:,:-1,:-1]\n",
    "Y_train=train[:,-1,-1]\n",
    "print('X_train : ', X_train.shape)\n",
    "print('Y_train : ', Y_train.shape)\n",
    "\n",
    "X_test=result_data[row:,:-1,:-1]\n",
    "Y_test=result_data[row:,-1,-1]\n",
    "Y_test_real = Y_test*(ymax-ymin)+ymin\n",
    "print('X_test : ', X_test.shape)\n",
    "print('Y_test : ', Y_test.shape)"
   ]
  },
  {
   "cell_type": "code",
   "execution_count": 8,
   "metadata": {},
   "outputs": [
    {
     "name": "stdout",
     "output_type": "stream",
     "text": [
      "Model: \"sequential\"\n",
      "_________________________________________________________________\n",
      "Layer (type)                 Output Shape              Param #   \n",
      "=================================================================\n",
      "lstm (LSTM)                  (None, 128)               68096     \n",
      "_________________________________________________________________\n",
      "dropout (Dropout)            (None, 128)               0         \n",
      "_________________________________________________________________\n",
      "dense (Dense)                (None, 1)                 129       \n",
      "=================================================================\n",
      "Total params: 68,225\n",
      "Trainable params: 68,225\n",
      "Non-trainable params: 0\n",
      "_________________________________________________________________\n"
     ]
    }
   ],
   "source": [
    "# 모델 생성(Keras 기반)\n",
    "# 파라미터(layer, cell,...)선정, Dropout(0.2) 적용으로 과적합 방지\n",
    "model=Sequential()\n",
    "model.add(LSTM(128,return_sequences=False,input_shape=X_train.shape[1:]))\n",
    "model.add(Dropout(0.2))\n",
    "model.add(Dense(1,activation='linear'))\n",
    "model.compile(loss='mse',optimizer='adam',metrics=['acc'])\n",
    "model.summary()"
   ]
  },
  {
   "cell_type": "code",
   "execution_count": 9,
   "metadata": {},
   "outputs": [
    {
     "name": "stdout",
     "output_type": "stream",
     "text": [
      "Train on 30 samples, validate on 8 samples\n",
      "Epoch 1/30\n",
      "30/30 [==============================] - 6s 194ms/sample - loss: 0.2412 - acc: 0.0000e+00 - val_loss: 0.1399 - val_acc: 0.0000e+00\n",
      "Epoch 2/30\n",
      "30/30 [==============================] - 0s 8ms/sample - loss: 0.1467 - acc: 0.0000e+00 - val_loss: 0.3073 - val_acc: 0.0000e+00\n",
      "Epoch 3/30\n",
      "30/30 [==============================] - 0s 9ms/sample - loss: 0.1230 - acc: 0.0000e+00 - val_loss: 0.3073 - val_acc: 0.0000e+00\n",
      "Epoch 4/30\n",
      "30/30 [==============================] - 0s 8ms/sample - loss: 0.1016 - acc: 0.0000e+00 - val_loss: 0.2058 - val_acc: 0.0000e+00\n",
      "Epoch 5/30\n",
      "30/30 [==============================] - 0s 9ms/sample - loss: 0.0858 - acc: 0.0000e+00 - val_loss: 0.1715 - val_acc: 0.0000e+00\n",
      "Epoch 6/30\n",
      "30/30 [==============================] - 0s 9ms/sample - loss: 0.0703 - acc: 0.0000e+00 - val_loss: 0.1501 - val_acc: 0.0000e+00\n",
      "Epoch 7/30\n",
      "30/30 [==============================] - 0s 8ms/sample - loss: 0.0504 - acc: 0.0000e+00 - val_loss: 0.0606 - val_acc: 0.0000e+00\n",
      "Epoch 8/30\n",
      "30/30 [==============================] - 0s 8ms/sample - loss: 0.0366 - acc: 0.0000e+00 - val_loss: 0.0367 - val_acc: 0.0000e+00\n",
      "Epoch 9/30\n",
      "30/30 [==============================] - 0s 8ms/sample - loss: 0.0260 - acc: 0.0000e+00 - val_loss: 0.0268 - val_acc: 0.0000e+00\n",
      "Epoch 10/30\n",
      "30/30 [==============================] - 0s 8ms/sample - loss: 0.0153 - acc: 0.0000e+00 - val_loss: 0.0027 - val_acc: 0.0000e+00\n",
      "Epoch 11/30\n",
      "30/30 [==============================] - ETA: 0s - loss: 0.0089 - acc: 0.0000e+0 - 0s 8ms/sample - loss: 0.0080 - acc: 0.0000e+00 - val_loss: 0.0028 - val_acc: 0.0000e+00\n",
      "Epoch 12/30\n",
      "30/30 [==============================] - 0s 10ms/sample - loss: 0.0054 - acc: 0.0000e+00 - val_loss: 0.0050 - val_acc: 0.0000e+00\n",
      "Epoch 13/30\n",
      "30/30 [==============================] - 0s 11ms/sample - loss: 0.0053 - acc: 0.0000e+00 - val_loss: 0.0081 - val_acc: 0.0000e+00\n",
      "Epoch 14/30\n",
      "30/30 [==============================] - 0s 9ms/sample - loss: 0.0041 - acc: 0.0000e+00 - val_loss: 0.0125 - val_acc: 0.0000e+00\n",
      "Epoch 15/30\n",
      "30/30 [==============================] - 0s 8ms/sample - loss: 0.0024 - acc: 0.0000e+00 - val_loss: 0.0154 - val_acc: 0.0000e+00\n",
      "Epoch 16/30\n",
      "30/30 [==============================] - 0s 8ms/sample - loss: 0.0036 - acc: 0.0000e+00 - val_loss: 0.0153 - val_acc: 0.0000e+00\n",
      "Epoch 17/30\n",
      "30/30 [==============================] - 0s 9ms/sample - loss: 0.0024 - acc: 0.0000e+00 - val_loss: 0.0250 - val_acc: 0.0000e+00\n",
      "Epoch 18/30\n",
      "30/30 [==============================] - 0s 10ms/sample - loss: 0.0045 - acc: 0.0000e+00 - val_loss: 0.0082 - val_acc: 0.0000e+00\n",
      "Epoch 19/30\n",
      "30/30 [==============================] - 0s 8ms/sample - loss: 0.0030 - acc: 0.0000e+00 - val_loss: 0.0166 - val_acc: 0.0000e+00\n",
      "Epoch 20/30\n",
      "30/30 [==============================] - 0s 9ms/sample - loss: 0.0026 - acc: 0.0000e+00 - val_loss: 0.0105 - val_acc: 0.0000e+00\n",
      "Epoch 21/30\n",
      "30/30 [==============================] - 0s 8ms/sample - loss: 0.0030 - acc: 0.0000e+00 - val_loss: 0.0060 - val_acc: 0.0000e+00\n",
      "Epoch 22/30\n",
      "30/30 [==============================] - 0s 8ms/sample - loss: 0.0024 - acc: 0.0000e+00 - val_loss: 0.0141 - val_acc: 0.0000e+00\n",
      "Epoch 23/30\n",
      "30/30 [==============================] - 0s 9ms/sample - loss: 0.0014 - acc: 0.0000e+00 - val_loss: 0.0102 - val_acc: 0.0000e+00\n",
      "Epoch 24/30\n",
      "30/30 [==============================] - 0s 9ms/sample - loss: 0.0012 - acc: 0.0000e+00 - val_loss: 0.0102 - val_acc: 0.0000e+00\n",
      "Epoch 25/30\n",
      "30/30 [==============================] - 0s 10ms/sample - loss: 0.0016 - acc: 0.0000e+00 - val_loss: 0.0096 - val_acc: 0.0000e+00\n",
      "Epoch 26/30\n",
      "30/30 [==============================] - 0s 12ms/sample - loss: 0.0019 - acc: 0.0000e+00 - val_loss: 0.0052 - val_acc: 0.0000e+00\n",
      "Epoch 27/30\n",
      "30/30 [==============================] - 0s 11ms/sample - loss: 0.0021 - acc: 0.0000e+00 - val_loss: 0.0053 - val_acc: 0.0000e+00\n",
      "Epoch 28/30\n",
      "30/30 [==============================] - 0s 9ms/sample - loss: 0.0026 - acc: 0.0000e+00 - val_loss: 0.0045 - val_acc: 0.0000e+00\n",
      "Epoch 29/30\n",
      "30/30 [==============================] - 0s 9ms/sample - loss: 0.0015 - acc: 0.0000e+00 - val_loss: 0.0103 - val_acc: 0.0000e+00\n",
      "Epoch 30/30\n",
      "30/30 [==============================] - 0s 8ms/sample - loss: 0.0018 - acc: 0.0000e+00 - val_loss: 0.0028 - val_acc: 0.0000e+00\n"
     ]
    }
   ],
   "source": [
    "# 학습과 동시에 Loss값 저장(mini batch 적용x, epochs : 20 )\n",
    "hist=model.fit(X_train, Y_train,\n",
    "    validation_data=(X_test, Y_test),\n",
    "    batch_size=1,\n",
    "    epochs=30)"
   ]
  },
  {
   "cell_type": "code",
   "execution_count": 10,
   "metadata": {},
   "outputs": [
    {
     "data": {
      "image/png": "[encoded data removed]",
      "text/plain": [
       "<Figure size 432x288 with 1 Axes>"
      ]
     },
     "metadata": {
      "needs_background": "light"
     },
     "output_type": "display_data"
    }
   ],
   "source": [
    "# 학습 결과(Epoch에 따른 Loss 감소) 시각화\n",
    "plt.plot(hist.history['loss'],'b-', linewidth=2.0,label='train_loss')\n",
    "plt.plot(hist.history['val_loss'], 'r-', linewidth=2.0,label='test_loss')\n",
    "plt.xlabel('Epoch', fontsize=14)\n",
    "plt.ylabel('Loss', fontsize=15)\n",
    "plt.grid()"
   ]
  },
  {
   "cell_type": "code",
   "execution_count": 11,
   "metadata": {},
   "outputs": [
    {
     "name": "stdout",
     "output_type": "stream",
     "text": [
      "8/1 [================================================================================================================================================================================================================================================] - 1s 121ms/sample - loss: 0.0028 - acc: 0.0000e+00\n",
      "## evaluation loss and_metrics ##\n",
      "[0.0027520901057869196, 0.0]\n"
     ]
    }
   ],
   "source": [
    "# loss 확인\n",
    "loss_and_metrics = model.evaluate(X_test, Y_test, batch_size=20)\n",
    "print('## evaluation loss and_metrics ##')\n",
    "print(loss_and_metrics)"
   ]
  },
  {
   "cell_type": "code",
   "execution_count": 12,
   "metadata": {},
   "outputs": [
    {
     "data": {
      "image/png": "[encoded data removed]",
      "text/plain": [
       "<Figure size 936x360 with 1 Axes>"
      ]
     },
     "metadata": {
      "needs_background": "light"
     },
     "output_type": "display_data"
    }
   ],
   "source": [
    "# 예측 값 시각화(data 전체 값)\n",
    "pred=model.predict(X_data)\n",
    "pred = pred*(ymax-ymin)+ymin\n",
    "fig=plt.figure(figsize=(13,5))\n",
    "plt.plot(Y_data_real,linewidth=2.0,label='True')\n",
    "plt.plot(pred,linewidth=2.0,label='Prediction')\n",
    "plt.xlabel('Time', fontsize=14)\n",
    "plt.ylabel('Capacity', fontsize=15)\n",
    "plt.legend()\n",
    "plt.grid()\n",
    "plt.show()"
   ]
  },
  {
   "cell_type": "code",
   "execution_count": 13,
   "metadata": {},
   "outputs": [
    {
     "data": {
      "image/png": "[encoded data removed]",
      "text/plain": [
       "<Figure size 936x360 with 1 Axes>"
      ]
     },
     "metadata": {
      "needs_background": "light"
     },
     "output_type": "display_data"
    }
   ],
   "source": [
    "# 예측 값 시각화(test 값)\n",
    "pred=model.predict(X_test)\n",
    "pred = pred*(ymax-ymin)+ymin\n",
    "fig=plt.figure(figsize=(13,5))\n",
    "plt.plot(Y_data_real, linewidth=2.0, label='True')\n",
    "plt.plot(np.arange(row, row + len(pred), 1), pred, linewidth=2.0, label='Prediction')\n",
    "plt.xlabel('Time', fontsize=14)\n",
    "plt.ylabel('Capacity', fontsize=15)\n",
    "plt.legend()\n",
    "plt.grid()\n",
    "plt.show()"
   ]
  },
  {
   "cell_type": "code",
   "execution_count": 14,
   "metadata": {},
   "outputs": [
    {
     "data": {
      "image/png": "[encoded data removed]",
      "text/plain": [
       "<Figure size 432x288 with 1 Axes>"
      ]
     },
     "metadata": {},
     "output_type": "display_data"
    }
   ],
   "source": [
    "# 예측 값 시각화(test 값)\n",
    "pred=model.predict(X_test)\n",
    "pred = pred*(ymax-ymin)+ymin\n",
    "Y_test = Y_test*(ymax-ymin)+ymin\n",
    "fig=plt.figure(facecolor='white')\n",
    "plt.plot(Y_test,label='True')\n",
    "plt.plot(pred,label='Prediction')\n",
    "plt.legend()\n",
    "plt.show()"
   ]
  },
  {
   "cell_type": "code",
   "execution_count": 15,
   "metadata": {},
   "outputs": [
    {
     "data": {
      "text/plain": [
       "0.37225025006610246"
      ]
     },
     "execution_count": 15,
     "metadata": {},
     "output_type": "execute_result"
    }
   ],
   "source": [
    "# 에러율 계산\n",
    "np.mean(abs((Y_test - pred.T)/Y_test)*100)"
   ]
  },
  {
   "cell_type": "code",
   "execution_count": null,
   "metadata": {},
   "outputs": [],
   "source": []
  }
 ],
 "metadata": {
  "kernelspec": {
   "display_name": "Python 3",
   "language": "python",
   "name": "python3"
  },
  "language_info": {
   "codemirror_mode": {
    "name": "ipython",
    "version": 3
   },
   "file_extension": ".py",
   "mimetype": "text/x-python",
   "name": "python",
   "nbconvert_exporter": "python",
   "pygments_lexer": "ipython3",
   "version": "3.7.4"
  }
 },
 "nbformat": 4,
 "nbformat_minor": 2
}
