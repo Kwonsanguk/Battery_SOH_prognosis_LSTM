{
 "cells": [
  {
   "cell_type": "code",
   "execution_count": 1,
   "metadata": {},
   "outputs": [
    {
     "name": "stderr",
     "output_type": "stream",
     "text": [
      "C:\\Users\\User\\Anaconda3\\lib\\site-packages\\numpy\\_distributor_init.py:32: UserWarning: loaded more than 1 DLL from .libs:\n",
      "C:\\Users\\User\\Anaconda3\\lib\\site-packages\\numpy\\.libs\\libopenblas.CSRRD7HKRKC3T3YXA7VY7TAZGLSWDKW6.gfortran-win_amd64.dll\n",
      "C:\\Users\\User\\Anaconda3\\lib\\site-packages\\numpy\\.libs\\libopenblas.TXA6YQSD3GCQQC22GEQ54J2UDCXDXHWN.gfortran-win_amd64.dll\n",
      "  stacklevel=1)\n"
     ]
    },
    {
     "ename": "ImportError",
     "evalue": "No module named 'numpy.core._multiarray_umath'",
     "output_type": "error",
     "traceback": [
      "\u001b[1;31m---------------------------------------------------------------------------\u001b[0m",
      "\u001b[1;31mImportError\u001b[0m                               Traceback (most recent call last)",
      "\u001b[1;32m<ipython-input-1-b616816be4fa>\u001b[0m in \u001b[0;36m<module>\u001b[1;34m()\u001b[0m\n\u001b[1;32m----> 1\u001b[1;33m \u001b[1;32mimport\u001b[0m \u001b[0mtensorflow\u001b[0m \u001b[1;32mas\u001b[0m \u001b[0mtf\u001b[0m\u001b[1;33m\u001b[0m\u001b[0m\n\u001b[0m\u001b[0;32m      2\u001b[0m \u001b[1;32mimport\u001b[0m \u001b[0mnumpy\u001b[0m \u001b[1;32mas\u001b[0m \u001b[0mnp\u001b[0m\u001b[1;33m\u001b[0m\u001b[0m\n\u001b[0;32m      3\u001b[0m \u001b[1;32mimport\u001b[0m \u001b[0mmatplotlib\u001b[0m\u001b[1;33m.\u001b[0m\u001b[0mpyplot\u001b[0m \u001b[1;32mas\u001b[0m \u001b[0mplt\u001b[0m\u001b[1;33m\u001b[0m\u001b[0m\n\u001b[0;32m      4\u001b[0m \u001b[1;32mfrom\u001b[0m \u001b[0mtensorflow\u001b[0m\u001b[1;33m.\u001b[0m\u001b[0mkeras\u001b[0m\u001b[1;33m.\u001b[0m\u001b[0mmodels\u001b[0m \u001b[1;32mimport\u001b[0m \u001b[0mSequential\u001b[0m\u001b[1;33m\u001b[0m\u001b[0m\n\u001b[0;32m      5\u001b[0m \u001b[1;32mfrom\u001b[0m \u001b[0mtensorflow\u001b[0m\u001b[1;33m.\u001b[0m\u001b[0mkeras\u001b[0m\u001b[1;33m.\u001b[0m\u001b[0mlayers\u001b[0m \u001b[1;32mimport\u001b[0m \u001b[0mLSTM\u001b[0m\u001b[1;33m,\u001b[0m\u001b[0mDropout\u001b[0m\u001b[1;33m,\u001b[0m\u001b[0mDense\u001b[0m\u001b[1;33m,\u001b[0m\u001b[0mActivation\u001b[0m\u001b[1;33m\u001b[0m\u001b[0m\n",
      "\u001b[1;32mC:\\Users\\User\\Anaconda3\\lib\\site-packages\\tensorflow\\__init__.py\u001b[0m in \u001b[0;36m<module>\u001b[1;34m()\u001b[0m\n\u001b[0;32m     22\u001b[0m \u001b[1;33m\u001b[0m\u001b[0m\n\u001b[0;32m     23\u001b[0m \u001b[1;31m# pylint: disable=g-bad-import-order\u001b[0m\u001b[1;33m\u001b[0m\u001b[1;33m\u001b[0m\u001b[0m\n\u001b[1;32m---> 24\u001b[1;33m \u001b[1;32mfrom\u001b[0m \u001b[0mtensorflow\u001b[0m\u001b[1;33m.\u001b[0m\u001b[0mpython\u001b[0m \u001b[1;32mimport\u001b[0m \u001b[0mpywrap_tensorflow\u001b[0m  \u001b[1;31m# pylint: disable=unused-import\u001b[0m\u001b[1;33m\u001b[0m\u001b[0m\n\u001b[0m\u001b[0;32m     25\u001b[0m \u001b[1;33m\u001b[0m\u001b[0m\n\u001b[0;32m     26\u001b[0m \u001b[1;32mfrom\u001b[0m \u001b[0mtensorflow\u001b[0m\u001b[1;33m.\u001b[0m\u001b[0m_api\u001b[0m\u001b[1;33m.\u001b[0m\u001b[0mv1\u001b[0m \u001b[1;32mimport\u001b[0m \u001b[0mapp\u001b[0m\u001b[1;33m\u001b[0m\u001b[0m\n",
      "\u001b[1;32mC:\\Users\\User\\Anaconda3\\lib\\site-packages\\tensorflow\\python\\__init__.py\u001b[0m in \u001b[0;36m<module>\u001b[1;34m()\u001b[0m\n\u001b[0;32m     45\u001b[0m \u001b[1;31m# pylint: disable=wildcard-import,g-bad-import-order,g-import-not-at-top\u001b[0m\u001b[1;33m\u001b[0m\u001b[1;33m\u001b[0m\u001b[0m\n\u001b[0;32m     46\u001b[0m \u001b[1;33m\u001b[0m\u001b[0m\n\u001b[1;32m---> 47\u001b[1;33m \u001b[1;32mimport\u001b[0m \u001b[0mnumpy\u001b[0m \u001b[1;32mas\u001b[0m \u001b[0mnp\u001b[0m\u001b[1;33m\u001b[0m\u001b[0m\n\u001b[0m\u001b[0;32m     48\u001b[0m \u001b[1;33m\u001b[0m\u001b[0m\n\u001b[0;32m     49\u001b[0m \u001b[1;32mfrom\u001b[0m \u001b[0mtensorflow\u001b[0m\u001b[1;33m.\u001b[0m\u001b[0mpython\u001b[0m \u001b[1;32mimport\u001b[0m \u001b[0mpywrap_tensorflow\u001b[0m\u001b[1;33m\u001b[0m\u001b[0m\n",
      "\u001b[1;32mC:\\Users\\User\\Anaconda3\\lib\\site-packages\\numpy\\__init__.py\u001b[0m in \u001b[0;36m<module>\u001b[1;34m()\u001b[0m\n\u001b[0;32m    140\u001b[0m     \u001b[1;32mfrom\u001b[0m \u001b[1;33m.\u001b[0m \u001b[1;32mimport\u001b[0m \u001b[0m_distributor_init\u001b[0m\u001b[1;33m\u001b[0m\u001b[0m\n\u001b[0;32m    141\u001b[0m \u001b[1;33m\u001b[0m\u001b[0m\n\u001b[1;32m--> 142\u001b[1;33m     \u001b[1;32mfrom\u001b[0m \u001b[1;33m.\u001b[0m \u001b[1;32mimport\u001b[0m \u001b[0mcore\u001b[0m\u001b[1;33m\u001b[0m\u001b[0m\n\u001b[0m\u001b[0;32m    143\u001b[0m     \u001b[1;32mfrom\u001b[0m \u001b[1;33m.\u001b[0m\u001b[0mcore\u001b[0m \u001b[1;32mimport\u001b[0m \u001b[1;33m*\u001b[0m\u001b[1;33m\u001b[0m\u001b[0m\n\u001b[0;32m    144\u001b[0m     \u001b[1;32mfrom\u001b[0m \u001b[1;33m.\u001b[0m \u001b[1;32mimport\u001b[0m \u001b[0mcompat\u001b[0m\u001b[1;33m\u001b[0m\u001b[0m\n",
      "\u001b[1;32mC:\\Users\\User\\Anaconda3\\lib\\site-packages\\numpy\\core\\__init__.py\u001b[0m in \u001b[0;36m<module>\u001b[1;34m()\u001b[0m\n\u001b[0;32m     34\u001b[0m \u001b[1;32mfrom\u001b[0m \u001b[1;33m.\u001b[0m \u001b[1;32mimport\u001b[0m \u001b[0mumath\u001b[0m\u001b[1;33m\u001b[0m\u001b[0m\n\u001b[0;32m     35\u001b[0m \u001b[1;32mfrom\u001b[0m \u001b[1;33m.\u001b[0m \u001b[1;32mimport\u001b[0m \u001b[0m_internal\u001b[0m  \u001b[1;31m# for freeze programs\u001b[0m\u001b[1;33m\u001b[0m\u001b[0m\n\u001b[1;32m---> 36\u001b[1;33m \u001b[1;32mfrom\u001b[0m \u001b[1;33m.\u001b[0m \u001b[1;32mimport\u001b[0m \u001b[0mnumerictypes\u001b[0m \u001b[1;32mas\u001b[0m \u001b[0mnt\u001b[0m\u001b[1;33m\u001b[0m\u001b[0m\n\u001b[0m\u001b[0;32m     37\u001b[0m \u001b[0mmultiarray\u001b[0m\u001b[1;33m.\u001b[0m\u001b[0mset_typeDict\u001b[0m\u001b[1;33m(\u001b[0m\u001b[0mnt\u001b[0m\u001b[1;33m.\u001b[0m\u001b[0msctypeDict\u001b[0m\u001b[1;33m)\u001b[0m\u001b[1;33m\u001b[0m\u001b[0m\n\u001b[0;32m     38\u001b[0m \u001b[1;32mfrom\u001b[0m \u001b[1;33m.\u001b[0m \u001b[1;32mimport\u001b[0m \u001b[0mnumeric\u001b[0m\u001b[1;33m\u001b[0m\u001b[0m\n",
      "\u001b[1;32mC:\\Users\\User\\Anaconda3\\lib\\site-packages\\numpy\\core\\numerictypes.py\u001b[0m in \u001b[0;36m<module>\u001b[1;34m()\u001b[0m\n\u001b[0;32m     93\u001b[0m         \u001b[0mbusdaycalendar\u001b[0m\u001b[1;33m\u001b[0m\u001b[0m\n\u001b[0;32m     94\u001b[0m         )\n\u001b[1;32m---> 95\u001b[1;33m \u001b[1;32mfrom\u001b[0m \u001b[0mnumpy\u001b[0m\u001b[1;33m.\u001b[0m\u001b[0mcore\u001b[0m\u001b[1;33m.\u001b[0m\u001b[0moverrides\u001b[0m \u001b[1;32mimport\u001b[0m \u001b[0mset_module\u001b[0m\u001b[1;33m\u001b[0m\u001b[0m\n\u001b[0m\u001b[0;32m     96\u001b[0m \u001b[1;33m\u001b[0m\u001b[0m\n\u001b[0;32m     97\u001b[0m \u001b[1;31m# we add more at the bottom\u001b[0m\u001b[1;33m\u001b[0m\u001b[1;33m\u001b[0m\u001b[0m\n",
      "\u001b[1;32mC:\\Users\\User\\Anaconda3\\lib\\site-packages\\numpy\\core\\overrides.py\u001b[0m in \u001b[0;36m<module>\u001b[1;34m()\u001b[0m\n\u001b[0;32m      5\u001b[0m \u001b[1;32mimport\u001b[0m \u001b[0mtextwrap\u001b[0m\u001b[1;33m\u001b[0m\u001b[0m\n\u001b[0;32m      6\u001b[0m \u001b[1;33m\u001b[0m\u001b[0m\n\u001b[1;32m----> 7\u001b[1;33m from numpy.core._multiarray_umath import (\n\u001b[0m\u001b[0;32m      8\u001b[0m     add_docstring, implement_array_function, _get_implementing_args)\n\u001b[0;32m      9\u001b[0m \u001b[1;32mfrom\u001b[0m \u001b[0mnumpy\u001b[0m\u001b[1;33m.\u001b[0m\u001b[0mcompat\u001b[0m\u001b[1;33m.\u001b[0m\u001b[0m_inspect\u001b[0m \u001b[1;32mimport\u001b[0m \u001b[0mgetargspec\u001b[0m\u001b[1;33m\u001b[0m\u001b[0m\n",
      "\u001b[1;31mImportError\u001b[0m: No module named 'numpy.core._multiarray_umath'"
     ]
    }
   ],
   "source": [
    "import tensorflow as tf\n",
    "import numpy as np\n",
    "import matplotlib.pyplot as plt\n",
    "from tensorflow.keras.models import Sequential\n",
    "from tensorflow.keras.layers import LSTM,Dropout,Dense,Activation"
   ]
  },
  {
   "cell_type": "code",
   "execution_count": 2,
   "metadata": {
    "scrolled": true
   },
   "outputs": [
    {
     "name": "stdout",
     "output_type": "stream",
     "text": [
      "(40, 5)\n"
     ]
    }
   ],
   "source": [
    "xy = np.loadtxt('C:\\\\실험데이터\\\\UDDS_lowdata.csv', delimiter=',', dtype=np.float32)\n",
    "print(xy.shape)"
   ]
  },
  {
   "cell_type": "code",
   "execution_count": 3,
   "metadata": {
    "collapsed": true
   },
   "outputs": [],
   "source": [
    "def minmaxscaler(data):\n",
    "    numerator = data - np.min(data, 0)\n",
    "    denominator = np.max(data, 0) - np.min(data, 0)\n",
    "    return numerator / denominator           \n",
    "    # noise term prevents the zero division:  (denominator + 1e-7)"
   ]
  },
  {
   "cell_type": "code",
   "execution_count": 4,
   "metadata": {},
   "outputs": [
    {
     "data": {
      "text/plain": [
       "(37, 3, 5)"
      ]
     },
     "execution_count": 4,
     "metadata": {},
     "output_type": "execute_result"
    }
   ],
   "source": [
    "x_data = xy[:, 0:-1]\n",
    "y_data = xy[:, [-1]]\n",
    "ymax, ymin = np.max(y_data), np.min(y_data)\n",
    "xy = minmaxscaler(xy)\n",
    "x_data = xy[:, 0:-1]\n",
    "y_data = xy[:, [-1]]\n",
    "\n",
    "seq_len = 2\n",
    "sequence_length = seq_len + 1\n",
    "\n",
    "result=[]\n",
    "for index in range(len(xy)-sequence_length):\n",
    "    result.append(xy[index:index +sequence_length])\n",
    "    result_data = np.array(result)\n",
    "result_data.shape"
   ]
  },
  {
   "cell_type": "code",
   "execution_count": 5,
   "metadata": {},
   "outputs": [
    {
     "name": "stdout",
     "output_type": "stream",
     "text": [
      "X_data :  (37, 2, 4)\n",
      "Y_data :  (37,)\n",
      "X_train :  (30, 2, 4)\n",
      "Y_train :  (30,)\n",
      "X_test :  (7, 2, 4)\n",
      "Y_test :  (7,)\n"
     ]
    }
   ],
   "source": [
    "row=int(round(result_data.shape[0]*0.8))\n",
    "train=result_data[:row,:]\n",
    "#np.random.shuffle(train)\n",
    "\n",
    "X_data = result_data[:,:-1,:-1]\n",
    "Y_data = result_data[:,-1,-1]\n",
    "Y_data_real = Y_data*(ymax-ymin)+ymin\n",
    "print('X_data : ', X_data.shape)\n",
    "print('Y_data : ', Y_data.shape)\n",
    "\n",
    "X_train=train[:,:-1,:-1]\n",
    "Y_train=train[:,-1,-1]\n",
    "print('X_train : ', X_train.shape)\n",
    "print('Y_train : ', Y_train.shape)\n",
    "\n",
    "X_test=result_data[row:,:-1,:-1]\n",
    "Y_test=result_data[row:,-1,-1]\n",
    "Y_test_real = Y_test*(ymax-ymin)+ymin\n",
    "print('X_test : ', X_test.shape)\n",
    "print('Y_test : ', Y_test.shape)"
   ]
  },
  {
   "cell_type": "code",
   "execution_count": 6,
   "metadata": {},
   "outputs": [
    {
     "name": "stdout",
     "output_type": "stream",
     "text": [
      "_________________________________________________________________\n",
      "Layer (type)                 Output Shape              Param #   \n",
      "=================================================================\n",
      "lstm (LSTM)                  (None, 20)                2000      \n",
      "_________________________________________________________________\n",
      "dropout (Dropout)            (None, 20)                0         \n",
      "_________________________________________________________________\n",
      "dense (Dense)                (None, 1)                 21        \n",
      "=================================================================\n",
      "Total params: 2,021\n",
      "Trainable params: 2,021\n",
      "Non-trainable params: 0\n",
      "_________________________________________________________________\n"
     ]
    }
   ],
   "source": [
    "model=Sequential()\n",
    "model.add(LSTM(20,return_sequences=False,input_shape=(2,4)))\n",
    "model.add(Dropout(0.2))\n",
    "model.add(Dense(1,activation='linear'))\n",
    "model.compile(loss='mse',optimizer='adam')\n",
    "model.summary()"
   ]
  },
  {
   "cell_type": "code",
   "execution_count": 7,
   "metadata": {},
   "outputs": [
    {
     "name": "stdout",
     "output_type": "stream",
     "text": [
      "Train on 30 samples, validate on 7 samples\n",
      "Epoch 1/30\n",
      "30/30 [==============================] - 1s 26ms/step - loss: 0.2092 - val_loss: 0.1120\n",
      "Epoch 2/30\n",
      "30/30 [==============================] - 0s 2ms/step - loss: 0.1441 - val_loss: 0.2738\n",
      "Epoch 3/30\n",
      "30/30 [==============================] - 0s 2ms/step - loss: 0.1187 - val_loss: 0.2609\n",
      "Epoch 4/30\n",
      "30/30 [==============================] - 0s 2ms/step - loss: 0.1125 - val_loss: 0.2263\n",
      "Epoch 5/30\n",
      "30/30 [==============================] - 0s 2ms/step - loss: 0.0951 - val_loss: 0.2044\n",
      "Epoch 6/30\n",
      "30/30 [==============================] - 0s 1ms/step - loss: 0.0958 - val_loss: 0.1660\n",
      "Epoch 7/30\n",
      "30/30 [==============================] - 0s 1ms/step - loss: 0.0839 - val_loss: 0.1437\n",
      "Epoch 8/30\n",
      "30/30 [==============================] - 0s 2ms/step - loss: 0.0725 - val_loss: 0.1008\n",
      "Epoch 9/30\n",
      "30/30 [==============================] - 0s 1ms/step - loss: 0.0600 - val_loss: 0.0903\n",
      "Epoch 10/30\n",
      "30/30 [==============================] - 0s 1ms/step - loss: 0.0446 - val_loss: 0.0710\n",
      "Epoch 11/30\n",
      "30/30 [==============================] - 0s 1ms/step - loss: 0.0381 - val_loss: 0.0242\n",
      "Epoch 12/30\n",
      "30/30 [==============================] - 0s 2ms/step - loss: 0.0265 - val_loss: 0.0106\n",
      "Epoch 13/30\n",
      "30/30 [==============================] - 0s 1ms/step - loss: 0.0197 - val_loss: 0.0059\n",
      "Epoch 14/30\n",
      "30/30 [==============================] - 0s 1ms/step - loss: 0.0130 - val_loss: 0.0020\n",
      "Epoch 15/30\n",
      "30/30 [==============================] - 0s 1ms/step - loss: 0.0091 - val_loss: 0.0012\n",
      "Epoch 16/30\n",
      "30/30 [==============================] - 0s 1ms/step - loss: 0.0077 - val_loss: 0.0037\n",
      "Epoch 17/30\n",
      "30/30 [==============================] - 0s 2ms/step - loss: 0.0093 - val_loss: 0.0032\n",
      "Epoch 18/30\n",
      "30/30 [==============================] - 0s 2ms/step - loss: 0.0084 - val_loss: 0.0042\n",
      "Epoch 19/30\n",
      "30/30 [==============================] - 0s 1ms/step - loss: 0.0068 - val_loss: 0.0034\n",
      "Epoch 20/30\n",
      "30/30 [==============================] - 0s 1ms/step - loss: 0.0078 - val_loss: 0.0113\n",
      "Epoch 21/30\n",
      "30/30 [==============================] - 0s 2ms/step - loss: 0.0068 - val_loss: 0.0111\n",
      "Epoch 22/30\n",
      "30/30 [==============================] - 0s 1ms/step - loss: 0.0081 - val_loss: 0.0022\n",
      "Epoch 23/30\n",
      "30/30 [==============================] - 0s 2ms/step - loss: 0.0046 - val_loss: 0.0149\n",
      "Epoch 24/30\n",
      "30/30 [==============================] - 0s 2ms/step - loss: 0.0082 - val_loss: 0.0011\n",
      "Epoch 25/30\n",
      "30/30 [==============================] - 0s 1ms/step - loss: 0.0074 - val_loss: 0.0056\n",
      "Epoch 26/30\n",
      "30/30 [==============================] - 0s 1ms/step - loss: 0.0065 - val_loss: 0.0037\n",
      "Epoch 27/30\n",
      "30/30 [==============================] - 0s 2ms/step - loss: 0.0042 - val_loss: 0.0052\n",
      "Epoch 28/30\n",
      "30/30 [==============================] - 0s 2ms/step - loss: 0.0057 - val_loss: 0.0066\n",
      "Epoch 29/30\n",
      "30/30 [==============================] - 0s 1ms/step - loss: 0.0050 - val_loss: 0.0014\n",
      "Epoch 30/30\n",
      "30/30 [==============================] - 0s 1ms/step - loss: 0.0066 - val_loss: 0.0016\n"
     ]
    }
   ],
   "source": [
    "hist=model.fit(X_train, Y_train,\n",
    "    validation_data=(X_test, Y_test),\n",
    "    batch_size=1,\n",
    "    epochs=30)"
   ]
  },
  {
   "cell_type": "code",
   "execution_count": 8,
   "metadata": {},
   "outputs": [
    {
     "name": "stdout",
     "output_type": "stream",
     "text": [
      "## training loss ##\n"
     ]
    },
    {
     "data": {
      "image/png": "[encoded data removed]",
      "text/plain": [
       "<Figure size 432x288 with 1 Axes>"
      ]
     },
     "metadata": {
      "needs_background": "light"
     },
     "output_type": "display_data"
    }
   ],
   "source": [
    "print('## training loss ##')\n",
    "plt.plot(hist.history['loss'],'b-', linewidth=2.0)\n",
    "plt.xlabel('Epoch', fontsize=14)\n",
    "plt.ylabel('MSE', fontsize=15)\n",
    "plt.title('Loss')\n",
    "plt.grid()"
   ]
  },
  {
   "cell_type": "code",
   "execution_count": 9,
   "metadata": {},
   "outputs": [
    {
     "name": "stdout",
     "output_type": "stream",
     "text": [
      "7/7 [==============================] - 0s 143us/step\n",
      "## evaluation loss and_metrics ##\n",
      "0.0015557630686089396\n"
     ]
    }
   ],
   "source": [
    "loss_and_metrics = model.evaluate(X_test, Y_test, batch_size=20)\n",
    "print('## evaluation loss and_metrics ##')\n",
    "print(loss_and_metrics)"
   ]
  },
  {
   "cell_type": "code",
   "execution_count": 10,
   "metadata": {},
   "outputs": [
    {
     "data": {
      "image/png": "[encoded data removed]",
      "text/plain": [
       "<Figure size 432x288 with 1 Axes>"
      ]
     },
     "metadata": {},
     "output_type": "display_data"
    },
    {
     "data": {
      "text/plain": [
       "array([[2.4317405],\n",
       "       [2.4249432],\n",
       "       [2.4196815],\n",
       "       [2.415513 ],\n",
       "       [2.4107184],\n",
       "       [2.4035878],\n",
       "       [2.3985672],\n",
       "       [2.3956764],\n",
       "       [2.391782 ],\n",
       "       [2.3861794],\n",
       "       [2.376717 ],\n",
       "       [2.3712478],\n",
       "       [2.370761 ],\n",
       "       [2.3659594],\n",
       "       [2.3585043],\n",
       "       [2.3517716],\n",
       "       [2.3470933],\n",
       "       [2.3403056],\n",
       "       [2.3357954],\n",
       "       [2.3302104],\n",
       "       [2.3248158],\n",
       "       [2.3204832],\n",
       "       [2.3207707],\n",
       "       [2.3178427],\n",
       "       [2.3092334],\n",
       "       [2.3027852],\n",
       "       [2.2979286],\n",
       "       [2.2899346],\n",
       "       [2.2822824],\n",
       "       [2.2750962],\n",
       "       [2.2741446],\n",
       "       [2.2670076],\n",
       "       [2.2599902],\n",
       "       [2.2545805],\n",
       "       [2.2427602],\n",
       "       [2.2385814],\n",
       "       [2.2276592]], dtype=float32)"
      ]
     },
     "execution_count": 10,
     "metadata": {},
     "output_type": "execute_result"
    }
   ],
   "source": [
    "pred=model.predict(X_data)\n",
    "pred = pred*(ymax-ymin)+ymin\n",
    "fig=plt.figure(facecolor='white')\n",
    "ax=fig.add_subplot(111)\n",
    "ax.plot(Y_data_real,label='True')\n",
    "ax.plot(pred,label='Prediction')\n",
    "ax.legend()\n",
    "plt.show()\n",
    "pred"
   ]
  },
  {
   "cell_type": "code",
   "execution_count": 11,
   "metadata": {},
   "outputs": [
    {
     "data": {
      "image/png": "[encoded data removed]",
      "text/plain": [
       "<Figure size 432x288 with 1 Axes>"
      ]
     },
     "metadata": {},
     "output_type": "display_data"
    }
   ],
   "source": [
    "pred=model.predict(X_test)\n",
    "pred = pred*(ymax-ymin)+ymin\n",
    "Y_test = Y_test*(ymax-ymin)+ymin\n",
    "fig=plt.figure(facecolor='white')\n",
    "ax=fig.add_subplot(111)\n",
    "ax.plot(Y_test,label='True')\n",
    "ax.plot(pred,label='Prediction')\n",
    "ax.legend()\n",
    "plt.show()"
   ]
  },
  {
   "cell_type": "code",
   "execution_count": 12,
   "metadata": {},
   "outputs": [
    {
     "data": {
      "text/plain": [
       "0.29721767"
      ]
     },
     "execution_count": 12,
     "metadata": {},
     "output_type": "execute_result"
    }
   ],
   "source": [
    "np.mean(abs((Y_test - pred.T)/Y_test)*100)"
   ]
  },
  {
   "cell_type": "code",
   "execution_count": null,
   "metadata": {
    "collapsed": true
   },
   "outputs": [],
   "source": []
  }
 ],
 "metadata": {
  "kernelspec": {
   "display_name": "Python [default]",
   "language": "python",
   "name": "python3"
  }
 },
 "nbformat": 4,
 "nbformat_minor": 2
}
